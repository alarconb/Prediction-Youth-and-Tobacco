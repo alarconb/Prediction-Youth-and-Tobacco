{
 "cells": [
  {
   "cell_type": "code",
   "execution_count": 2,
   "metadata": {},
   "outputs": [
    {
     "name": "stdout",
     "output_type": "stream",
     "text": [
      "Unexpected exception formatting exception. Falling back to standard exception\n"
     ]
    },
    {
     "name": "stderr",
     "output_type": "stream",
     "text": [
      "Traceback (most recent call last):\n",
      "  File \"/Users/lucasliu/Desktop/483data/2023-nyts-dataset-codebook-microsoft-excel/myenv/lib/python3.8/site-packages/IPython/core/interactiveshell.py\", line 3508, in run_code\n",
      "  File \"/var/folders/4z/n7sr27qx5h18n91g81tmnsdh0000gn/T/ipykernel_40744/716422294.py\", line 5, in <module>\n",
      "    df = pd.read_csv(file_path)\n",
      "  File \"/Users/lucasliu/Desktop/483data/2023-nyts-dataset-codebook-microsoft-excel/myenv/lib/python3.8/site-packages/pandas/io/parsers/readers.py\", line 912, in read_csv\n",
      "  File \"/Users/lucasliu/Desktop/483data/2023-nyts-dataset-codebook-microsoft-excel/myenv/lib/python3.8/site-packages/pandas/io/parsers/readers.py\", line 577, in _read\n",
      "  File \"/Users/lucasliu/Desktop/483data/2023-nyts-dataset-codebook-microsoft-excel/myenv/lib/python3.8/site-packages/pandas/io/parsers/readers.py\", line 1407, in __init__\n",
      "  File \"/Users/lucasliu/Desktop/483data/2023-nyts-dataset-codebook-microsoft-excel/myenv/lib/python3.8/site-packages/pandas/io/parsers/readers.py\", line 1661, in _make_engine\n",
      "  File \"/Users/lucasliu/Desktop/483data/2023-nyts-dataset-codebook-microsoft-excel/myenv/lib/python3.8/site-packages/pandas/io/common.py\", line 859, in get_handle\n",
      "FileNotFoundError: [Errno 2] No such file or directory: '/Users/lucasliu/Desktop/483data/2023-nyts-dataset-codebook-microsoft-excel/nyts2023.csv'\n",
      "\n",
      "During handling of the above exception, another exception occurred:\n",
      "\n",
      "Traceback (most recent call last):\n",
      "  File \"/Users/lucasliu/Desktop/483data/2023-nyts-dataset-codebook-microsoft-excel/myenv/lib/python3.8/site-packages/pygments/styles/__init__.py\", line 45, in get_style_by_name\n",
      "ModuleNotFoundError: No module named 'pygments.styles.default'\n",
      "\n",
      "During handling of the above exception, another exception occurred:\n",
      "\n",
      "Traceback (most recent call last):\n",
      "  File \"/Users/lucasliu/Desktop/483data/2023-nyts-dataset-codebook-microsoft-excel/myenv/lib/python3.8/site-packages/IPython/core/interactiveshell.py\", line 2105, in showtraceback\n",
      "  File \"/Users/lucasliu/Desktop/483data/2023-nyts-dataset-codebook-microsoft-excel/myenv/lib/python3.8/site-packages/IPython/core/ultratb.py\", line 1396, in structured_traceback\n",
      "  File \"/Users/lucasliu/Desktop/483data/2023-nyts-dataset-codebook-microsoft-excel/myenv/lib/python3.8/site-packages/IPython/core/ultratb.py\", line 1287, in structured_traceback\n",
      "  File \"/Users/lucasliu/Desktop/483data/2023-nyts-dataset-codebook-microsoft-excel/myenv/lib/python3.8/site-packages/IPython/core/ultratb.py\", line 1140, in structured_traceback\n",
      "  File \"/Users/lucasliu/Desktop/483data/2023-nyts-dataset-codebook-microsoft-excel/myenv/lib/python3.8/site-packages/IPython/core/ultratb.py\", line 1030, in format_exception_as_a_whole\n",
      "  File \"/Users/lucasliu/Desktop/483data/2023-nyts-dataset-codebook-microsoft-excel/myenv/lib/python3.8/site-packages/IPython/core/ultratb.py\", line 1081, in get_records\n",
      "  File \"/Users/lucasliu/Desktop/483data/2023-nyts-dataset-codebook-microsoft-excel/myenv/lib/python3.8/site-packages/pygments/styles/__init__.py\", line 47, in get_style_by_name\n",
      "pygments.util.ClassNotFound: Could not find style module 'pygments.styles.default', though it should be builtin.\n"
     ]
    }
   ],
   "source": [
    "import pandas as pd\n",
    "\n",
    "# Load the CSV file\n",
    "file_path = '/Users/lucasliu/Desktop/483data/2023-nyts-dataset-codebook-microsoft-excel/Prediction-Youth-and-Tobacco/nyts2023.csv'\n",
    "df = pd.read_csv(file_path)\n",
    "\n",
    "# Display the first few rows of the dataset\n",
    "df.head()\n",
    "\n",
    "\n"
   ]
  }
 ],
 "metadata": {
  "kernelspec": {
   "display_name": "myenv",
   "language": "python",
   "name": "python3"
  },
  "language_info": {
   "codemirror_mode": {
    "name": "ipython",
    "version": 3
   },
   "file_extension": ".py",
   "mimetype": "text/x-python",
   "name": "python",
   "nbconvert_exporter": "python",
   "pygments_lexer": "ipython3",
   "version": "3.8.10"
  }
 },
 "nbformat": 4,
 "nbformat_minor": 2
}
